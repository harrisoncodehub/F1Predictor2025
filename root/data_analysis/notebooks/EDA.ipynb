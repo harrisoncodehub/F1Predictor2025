{
 "cells": [
  {
   "cell_type": "markdown",
   "id": "08da2e5d",
   "metadata": {},
   "source": [
    "## Notebook to sort through the F1 Data"
   ]
  },
  {
   "cell_type": "code",
   "execution_count": null,
   "id": "fbb61fe2",
   "metadata": {},
   "outputs": [],
   "source": [
    "import numpy as np \n",
    "import pandas as pd \n",
    "import matplotlib as plt \n",
    "\n",
    "import warnings\n",
    "warnings.filterwarnings('ignore')"
   ]
  },
  {
   "cell_type": "code",
   "execution_count": null,
   "id": "58997748",
   "metadata": {},
   "outputs": [],
   "source": [
    "# Load the dataset \n"
   ]
  }
 ],
 "metadata": {
  "kernelspec": {
   "display_name": "Python 3 (ipykernel)",
   "language": "python",
   "name": "python3"
  },
  "language_info": {
   "codemirror_mode": {
    "name": "ipython",
    "version": 3
   },
   "file_extension": ".py",
   "mimetype": "text/x-python",
   "name": "python",
   "nbconvert_exporter": "python",
   "pygments_lexer": "ipython3",
   "version": "3.12.7"
  }
 },
 "nbformat": 4,
 "nbformat_minor": 5
}
