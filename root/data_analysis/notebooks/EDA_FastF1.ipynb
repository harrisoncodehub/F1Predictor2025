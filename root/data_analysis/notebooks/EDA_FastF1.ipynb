{
 "cells": [
  {
   "cell_type": "markdown",
   "id": "f2a9b082",
   "metadata": {},
   "source": [
    "## Notebook Sorting Data from FastF1's API "
   ]
  },
  {
   "cell_type": "code",
   "execution_count": null,
   "id": "62ab8352",
   "metadata": {},
   "outputs": [],
   "source": [
    "import numpy as np \n",
    "import pandas as pd \n",
    "import micropip \n",
    "import matplotlib as plt \n",
    "await micropip.install(\"emfs:/drive/packages/rapidfuzz-3.11.0-cp312-cp312-pyodide_2024_0_wasm32.whl\")\n",
    "\n",
    "\n",
    "import warnings\n",
    "warnings.filterwarnings('ignore')\n",
    "\n",
    "%pip install jupyterlite-simple-cors-proxy fastf1"
   ]
  },
  {
   "cell_type": "code",
   "execution_count": null,
   "id": "af0c377b",
   "metadata": {},
   "outputs": [],
   "source": [
    "from jupyterlite_simple_cors_proxy.fastf1_proxy import (\n",
    "    enable_cors_proxy as fastf1_cors_proxy,\n",
    ")\n",
    "import fastf1"
   ]
  }
 ],
 "metadata": {
  "kernelspec": {
   "display_name": "Python 3 (ipykernel)",
   "language": "python",
   "name": "python3"
  }
 },
 "nbformat": 4,
 "nbformat_minor": 5
}
